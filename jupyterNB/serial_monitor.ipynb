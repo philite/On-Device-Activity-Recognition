{
 "cells": [
  {
   "cell_type": "code",
   "execution_count": 27,
   "metadata": {},
   "outputs": [],
   "source": [
    "import serial.tools.list_ports as port_list\n",
    "import serial"
   ]
  },
  {
   "cell_type": "code",
   "execution_count": 28,
   "metadata": {},
   "outputs": [
    {
     "name": "stdout",
     "output_type": "stream",
     "text": [
      "Classify on microcontroller via COM6\n"
     ]
    }
   ],
   "source": [
    "assert len(port_list.comports()) > 0, \"No serial ports available\"\n",
    "\n",
    "port = port_list.comports()[0].device # grab the first serial port\n",
    "print('Classify on microcontroller via', port)\n",
    "\n",
    "device = serial.Serial(port=port, baudrate=115200, timeout=0.1) \n",
    "\n",
    "#    retvals = [int(v) for v in tok]\n",
    "#    (request,micros,prediction,reps),values = retvals[:4], retvals[4:]\n",
    "\n",
    "#    assert request == idx\n",
    "#    assert reps == repetitions\n",
    "#    err = numpy.array(values) - row\n",
    "#    assert numpy.sum(err) == 0, err\n",
    "\n",
    "#    Y_pred.append(prediction)\n",
    "#    times.append(micros / 1000)\n",
    "#    #print(idx, prediction, reps, micros)\n",
    "\n",
    "# print('Confusion matrix')\n",
    "# print(metrics.confusion_matrix(Y_pred, ytest))\n",
    "\n",
    "# avg = numpy.mean(times) / repetitions\n",
    "# stddev = numpy.std(numpy.array(times) / repetitions)\n",
    "# print('Time per classification (ms): {:.2f} avg, {:.2f} stdev'.format(avg, stddev))"
   ]
  },
  {
   "cell_type": "code",
   "execution_count": 29,
   "metadata": {},
   "outputs": [],
   "source": [
    "resp = device.readline()\n",
    "tok = resp.decode('ascii').strip().split(';')"
   ]
  },
  {
   "cell_type": "code",
   "execution_count": 30,
   "metadata": {},
   "outputs": [
    {
     "data": {
      "text/plain": [
       "'0'"
      ]
     },
     "execution_count": 30,
     "metadata": {},
     "output_type": "execute_result"
    }
   ],
   "source": [
    "tok[0][-1]"
   ]
  },
  {
   "cell_type": "code",
   "execution_count": 9,
   "metadata": {},
   "outputs": [],
   "source": [
    "import ctypes"
   ]
  },
  {
   "cell_type": "code",
   "execution_count": null,
   "metadata": {},
   "outputs": [],
   "source": []
  }
 ],
 "metadata": {
  "kernelspec": {
   "display_name": "Python 3",
   "language": "python",
   "name": "python3"
  },
  "language_info": {
   "codemirror_mode": {
    "name": "ipython",
    "version": 3
   },
   "file_extension": ".py",
   "mimetype": "text/x-python",
   "name": "python",
   "nbconvert_exporter": "python",
   "pygments_lexer": "ipython3",
   "version": "3.7.6"
  }
 },
 "nbformat": 4,
 "nbformat_minor": 4
}
